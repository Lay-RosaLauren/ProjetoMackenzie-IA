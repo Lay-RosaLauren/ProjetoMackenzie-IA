import pandas as pd
import seaborn as sns
from sklearn import tree
from sklearn.datasets import load_iris
from sklearn.tree import DecisionTreeClassifier

iris_df = sns.load_dataset('iris')
iris_df.head()

#Observar a quantidade de elementos de cada classe

 sepal_length  sepal_width  petal_length  petal_width species
0           5.1          3.5           1.4          0.2  setosa
1           4.9          3.0           1.4          0.2  setosa
2           4.7          3.2           1.3          0.2  setosa
3           4.6          3.1           1.5          0.2  setosa
4           5.0          3.6           1.4          0.2  setosa

iris_df.species.value_counts()

setosa        50
versicolor    50
virginica     50
Name: species, dtype: int64

iris_df.describe()

sepal_length  sepal_width  petal_length  petal_width
count    150.000000   150.000000    150.000000   150.000000
mean       5.843333     3.057333      3.758000     1.199333
std        0.828066     0.435866      1.765298     0.762238
min        4.300000     2.000000      1.000000     0.100000
25%        5.100000     2.800000      1.600000     0.300000
50%        5.800000     3.000000      4.350000     1.300000
75%        6.400000     3.300000      5.100000     1.800000
max        7.900000     4.400000      6.900000     2.500000

sns.pairplot(iris_df, hue='species')

<seaborn.axisgrid.PairGrid at 0x7f7bd5037d50>

#Fit do modelo de árvore de decisão

X = iris_df.iloc[:, 2:4]
y = iris_df.species

tree_clf = DecisionTreeClassifier(max_depth=2)
tree_clf.fit(X,y)

DecisionTreeClassifier(max_depth=2)

petal_size = 6
petal_width = 1.2

tree_clf.predict([
    [petal_size, petal_width]
])

petal_size = 6
petal_width = 1.2

tree_clf.predict([
    [petal_size, petal_width]
])

pip install pydotplus

from sklearn.externals.six import StringIO
from IPython.display import Image
from sklearn.tree import export_graphviz
import pydotplus

dot_data = StringIO()

classes = iris_df.species.unique()

export_graphviz(
    tree_clf,
    out_file=dot_data,
    filled=True,
    feature_names=iris_df.columns[2:4],
    class_names= classes
)

graph = pydotplus.graph_from_dot_data.getvalue())
Image(graph.create_png())







